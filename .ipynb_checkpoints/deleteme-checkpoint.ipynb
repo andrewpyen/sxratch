{
 "cells": [
  {
   "cell_type": "code",
   "execution_count": 1,
   "id": "248b4702-5579-44c2-8f5c-56a25e05c282",
   "metadata": {},
   "outputs": [],
   "source": [
    "# import ml package\n",
    "import numpy as np\n",
    "from sklearn.linear_model import LinearRegression\n",
    "import matplotlib.pyplot as plt\n",
    "%matplotlib inline"
   ]
  },
  {
   "cell_type": "code",
   "execution_count": 2,
   "id": "d38a4187-f3ba-44d3-86dd-48d0dc215b09",
   "metadata": {},
   "outputs": [
    {
     "name": "stdout",
     "output_type": "stream",
     "text": [
      "<class 'pandas.core.frame.DataFrame'>\n",
      "RangeIndex: 231 entries, 0 to 230\n",
      "Data columns (total 8 columns):\n",
      " #   Column           Non-Null Count  Dtype \n",
      "---  ------           --------------  ----- \n",
      " 0   Serial Number    231 non-null    int64 \n",
      " 1   Country          231 non-null    object\n",
      " 2   Total Cases      231 non-null    object\n",
      " 3   Total Deaths     225 non-null    object\n",
      " 4   Total Recovered  210 non-null    object\n",
      " 5   Active Cases     212 non-null    object\n",
      " 6   Total Test       213 non-null    object\n",
      " 7   Population       228 non-null    object\n",
      "dtypes: int64(1), object(7)\n",
      "memory usage: 14.6+ KB\n"
     ]
    }
   ],
   "source": [
    "# load in data\n",
    "import pandas as pd\n",
    "\n",
    "dataset = pd.read_csv('s3://yanxiang-gate/ml_practice_data/covid_worldwide.csv')\n",
    "dataset.info()"
   ]
  },
  {
   "cell_type": "code",
   "execution_count": 3,
   "id": "e6ede50a-3751-4822-ab93-588555973dbc",
   "metadata": {},
   "outputs": [
    {
     "name": "stdout",
     "output_type": "stream",
     "text": [
      "<class 'pandas.core.frame.DataFrame'>\n",
      "RangeIndex: 231 entries, 0 to 230\n",
      "Data columns (total 8 columns):\n",
      " #   Column           Non-Null Count  Dtype  \n",
      "---  ------           --------------  -----  \n",
      " 0   Serial Number    231 non-null    int64  \n",
      " 1   Country          231 non-null    object \n",
      " 2   Total Cases      231 non-null    float64\n",
      " 3   Total Deaths     225 non-null    float64\n",
      " 4   Total Recovered  210 non-null    float64\n",
      " 5   Active Cases     212 non-null    float64\n",
      " 6   Total Test       213 non-null    float64\n",
      " 7   Population       228 non-null    float64\n",
      "dtypes: float64(6), int64(1), object(1)\n",
      "memory usage: 14.6+ KB\n"
     ]
    }
   ],
   "source": [
    "for c in dataset.columns:\n",
    "    if c not in ['Serial Number','Country']:\n",
    "        dataset[c] = dataset[c].str.replace(',','').astype(float)\n",
    "\n",
    "dataset.info()"
   ]
  },
  {
   "cell_type": "code",
   "execution_count": 4,
   "id": "2d4ce739-d3c6-43f3-8a36-cf7499bfe601",
   "metadata": {},
   "outputs": [],
   "source": [
    "nonnan = dataset.dropna()\n",
    "target_col = nonnan.pop('Total Deaths')\n",
    "\n",
    "features_df = nonnan.drop(['Serial Number','Country'], axis=1)\n",
    "# add target_col back to dataframe (in the last position of axis=1)\n",
    "features_df.insert(len(features_df.columns), 'Total Deaths', target_col)\n",
    "\n",
    "features_df = features_df.drop(['Total Recovered', 'Total Test', 'Active Cases','Total Cases'], axis=1)\n",
    "\n",
    "X = features_df.iloc[:,:-1]\n",
    "y = features_df.iloc[:,-1]"
   ]
  },
  {
   "cell_type": "code",
   "execution_count": 5,
   "id": "6a9c178a-2131-4ea0-b98e-66729e7cee2f",
   "metadata": {},
   "outputs": [],
   "source": [
    "from sklearn.model_selection import train_test_split\n",
    "\n",
    "X_train, X_test, y_train, y_test = train_test_split(X,y,test_size=0.3, random_state=4)"
   ]
  },
  {
   "cell_type": "code",
   "execution_count": 6,
   "id": "8f4f9e4f-19b8-4cbb-a9c9-b1165d21c003",
   "metadata": {},
   "outputs": [],
   "source": [
    "from sklearn.preprocessing import StandardScaler\n",
    "\n",
    "scaler = StandardScaler()\n",
    "\n",
    "X_train = scaler.fit_transform(X_train)\n",
    "X_test = scaler.transform(X_test)"
   ]
  },
  {
   "cell_type": "code",
   "execution_count": null,
   "id": "c830aed3-6f1b-40b9-b41b-4888e53a32d7",
   "metadata": {},
   "outputs": [],
   "source": [
    "from sklearn.linear_model import LinearRegression"
   ]
  },
  {
   "cell_type": "code",
   "execution_count": 8,
   "id": "3ab8b891-81ea-4a85-8bb3-5d4639384e08",
   "metadata": {},
   "outputs": [],
   "source": [
    "reg = LinearRegression()\n"
   ]
  },
  {
   "cell_type": "code",
   "execution_count": 11,
   "id": "ca536140-ddb7-476f-bc14-6213ccf66af3",
   "metadata": {},
   "outputs": [
    {
     "data": {
      "text/plain": [
       "LinearRegression()"
      ]
     },
     "execution_count": 11,
     "metadata": {},
     "output_type": "execute_result"
    }
   ],
   "source": [
    "reg.fit(X_train,y_train)"
   ]
  },
  {
   "cell_type": "code",
   "execution_count": 13,
   "id": "1818a709-1a17-4b1b-b63c-e2ebfd524fc8",
   "metadata": {},
   "outputs": [
    {
     "data": {
      "text/plain": [
       "StandardScaler()"
      ]
     },
     "execution_count": 13,
     "metadata": {},
     "output_type": "execute_result"
    }
   ],
   "source": [
    "reg.predict(X_test)"
   ]
  },
  {
   "cell_type": "code",
   "execution_count": null,
   "id": "1a29b2fb-1879-4961-b430-f31d224b458d",
   "metadata": {},
   "outputs": [],
   "source": []
  }
 ],
 "metadata": {
  "kernelspec": {
   "display_name": "Python 3",
   "language": "python",
   "name": "python3"
  },
  "language_info": {
   "codemirror_mode": {
    "name": "ipython",
    "version": 3
   },
   "file_extension": ".py",
   "mimetype": "text/x-python",
   "name": "python",
   "nbconvert_exporter": "python",
   "pygments_lexer": "ipython3",
   "version": "3.8.16"
  }
 },
 "nbformat": 4,
 "nbformat_minor": 5
}
