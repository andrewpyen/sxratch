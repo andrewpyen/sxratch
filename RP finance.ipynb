{
 "cells": [
  {
   "cell_type": "code",
   "execution_count": 1,
   "metadata": {},
   "outputs": [],
   "source": [
    "import pandas as pd\n",
    "import os\n",
    "\n",
    "\n",
    "csv = pd.read_csv(f'temp_data/{os.listdir(\"temp_data\")[0]}')"
   ]
  },
  {
   "cell_type": "code",
   "execution_count": 2,
   "metadata": {},
   "outputs": [
    {
     "data": {
      "text/html": [
       "<div>\n",
       "<style scoped>\n",
       "    .dataframe tbody tr th:only-of-type {\n",
       "        vertical-align: middle;\n",
       "    }\n",
       "\n",
       "    .dataframe tbody tr th {\n",
       "        vertical-align: top;\n",
       "    }\n",
       "\n",
       "    .dataframe thead th {\n",
       "        text-align: right;\n",
       "    }\n",
       "</style>\n",
       "<table border=\"1\" class=\"dataframe\">\n",
       "  <thead>\n",
       "    <tr style=\"text-align: right;\">\n",
       "      <th></th>\n",
       "      <th>Account Number</th>\n",
       "      <th>Transaction Date</th>\n",
       "      <th>Transaction Amount</th>\n",
       "      <th>Transaction Type</th>\n",
       "      <th>Transaction Description</th>\n",
       "      <th>Balance</th>\n",
       "    </tr>\n",
       "  </thead>\n",
       "  <tbody>\n",
       "    <tr>\n",
       "      <th>0</th>\n",
       "      <td>8346</td>\n",
       "      <td>03/28/23</td>\n",
       "      <td>-10.26</td>\n",
       "      <td>Debit</td>\n",
       "      <td>Withdrawal from PAYPAL to ANDREW YEN INST XFER</td>\n",
       "      <td>3072.18</td>\n",
       "    </tr>\n",
       "    <tr>\n",
       "      <th>1</th>\n",
       "      <td>8346</td>\n",
       "      <td>03/28/23</td>\n",
       "      <td>-4.35</td>\n",
       "      <td>Debit</td>\n",
       "      <td>Digital Card Purchase - PAYPAL SHIPSTATION ST ...</td>\n",
       "      <td>3082.44</td>\n",
       "    </tr>\n",
       "    <tr>\n",
       "      <th>2</th>\n",
       "      <td>8346</td>\n",
       "      <td>03/27/23</td>\n",
       "      <td>-315.74</td>\n",
       "      <td>Debit</td>\n",
       "      <td>Withdrawal from PAYPAL to ANDREW YEN INST XFER</td>\n",
       "      <td>3086.79</td>\n",
       "    </tr>\n",
       "    <tr>\n",
       "      <th>3</th>\n",
       "      <td>8346</td>\n",
       "      <td>03/27/23</td>\n",
       "      <td>-13.00</td>\n",
       "      <td>Debit</td>\n",
       "      <td>Withdrawal from PAYPAL to ANDREW YEN INST XFER</td>\n",
       "      <td>3402.53</td>\n",
       "    </tr>\n",
       "    <tr>\n",
       "      <th>4</th>\n",
       "      <td>8346</td>\n",
       "      <td>03/27/23</td>\n",
       "      <td>-2.90</td>\n",
       "      <td>Debit</td>\n",
       "      <td>Withdrawal from PAYPAL to ANDREW YEN INST XFER</td>\n",
       "      <td>3415.53</td>\n",
       "    </tr>\n",
       "  </tbody>\n",
       "</table>\n",
       "</div>"
      ],
      "text/plain": [
       "   Account Number Transaction Date  Transaction Amount Transaction Type  \\\n",
       "0            8346         03/28/23              -10.26            Debit   \n",
       "1            8346         03/28/23               -4.35            Debit   \n",
       "2            8346         03/27/23             -315.74            Debit   \n",
       "3            8346         03/27/23              -13.00            Debit   \n",
       "4            8346         03/27/23               -2.90            Debit   \n",
       "\n",
       "                             Transaction Description  Balance  \n",
       "0     Withdrawal from PAYPAL to ANDREW YEN INST XFER  3072.18  \n",
       "1  Digital Card Purchase - PAYPAL SHIPSTATION ST ...  3082.44  \n",
       "2     Withdrawal from PAYPAL to ANDREW YEN INST XFER  3086.79  \n",
       "3     Withdrawal from PAYPAL to ANDREW YEN INST XFER  3402.53  \n",
       "4     Withdrawal from PAYPAL to ANDREW YEN INST XFER  3415.53  "
      ]
     },
     "execution_count": 2,
     "metadata": {},
     "output_type": "execute_result"
    }
   ],
   "source": [
    "csv.head()"
   ]
  },
  {
   "cell_type": "code",
   "execution_count": 3,
   "metadata": {},
   "outputs": [],
   "source": [
    "# add month column\n",
    "csv['month'] = csv['Transaction Date'].str[:2]\n",
    "\n",
    "# clean \"Transaction Date\" for easier use\n",
    "csv['Transaction_Date'] = pd.to_datetime(csv['Transaction Date'])\n",
    "\n"
   ]
  },
  {
   "cell_type": "code",
   "execution_count": 4,
   "metadata": {},
   "outputs": [],
   "source": [
    "# # add month column\n",
    "# csv['month'] = csv['Transaction Date'].str[:2]\n",
    "\n",
    "# import numpy as np\n",
    "# # add pending transactions manually\n",
    "# pending = [\n",
    "#     {\n",
    "#         'Account Number':8346,\n",
    "#         'Transaction Date': '03/01/23',\n",
    "#         'Transaction Amount': -100.,\n",
    "#         'Transaction Type': 'Debit',\n",
    "#         'Transaction Description': '48 Hour books',\n",
    "#         'Balance': np.nan,\n",
    "#         'month':'03'\n",
    "#     },\n",
    "#     {\n",
    "#         'Account Number':8346,\n",
    "#         'Transaction Date': '03/01/23',\n",
    "#         'Transaction Amount': -114.48,\n",
    "#         'Transaction Type': 'Debit',\n",
    "#         'Transaction Description': 'Printing Supplies',\n",
    "#         'Balance': np.nan,\n",
    "#         'month':'03'\n",
    "#     },\n",
    "#     {\n",
    "#         'Account Number':8346,\n",
    "#         'Transaction Date': '03/01/23',\n",
    "#         'Transaction Amount': -1210.84,\n",
    "#         'Transaction Type': 'Debit',\n",
    "#         'Transaction Description': '48 Hour books reprint',\n",
    "#         'Balance': np.nan,\n",
    "#         'month':'03'\n",
    "#     },\n",
    "#     {\n",
    "#         'Account Number':8346,\n",
    "#         'Transaction Date': '03/01/23',\n",
    "#         'Transaction Amount': 1414.38,\n",
    "#         'Transaction Type': 'Credit',\n",
    "#         'Transaction Description': 'Sales',\n",
    "#         'Balance': np.nan,\n",
    "#         'month':'03'\n",
    "#     }\n",
    "    \n",
    "# ]\n",
    "\n",
    "# csv_cmplt = pd.concat([csv,pd.DataFrame(data=pending)]).reset_index(drop=True)"
   ]
  },
  {
   "cell_type": "code",
   "execution_count": 5,
   "metadata": {},
   "outputs": [
    {
     "data": {
      "text/plain": [
       "-5322.08"
      ]
     },
     "execution_count": 5,
     "metadata": {},
     "output_type": "execute_result"
    }
   ],
   "source": [
    "# total expenses year-to-date\n",
    "csv[csv['Transaction Type']=='Debit']['Transaction Amount'].sum()"
   ]
  },
  {
   "cell_type": "code",
   "execution_count": 6,
   "metadata": {},
   "outputs": [
    {
     "data": {
      "text/plain": [
       "7037.63"
      ]
     },
     "execution_count": 6,
     "metadata": {},
     "output_type": "execute_result"
    }
   ],
   "source": [
    "# total revenue year-to-date\n",
    "csv[csv['Transaction Type']=='Credit']['Transaction Amount'].sum()"
   ]
  },
  {
   "cell_type": "code",
   "execution_count": 8,
   "metadata": {
    "tags": []
   },
   "outputs": [],
   "source": [
    "# set up dates\n",
    "from datetime import date, timedelta\n",
    "\n",
    "end_date = date.today()\n",
    "\n",
    "start_date = end_date-timedelta(days=30)\n",
    "\n",
    "end_date = pd.to_datetime(end_date)\n",
    "start_date = pd.to_datetime(start_date)\n",
    "\n",
    "last_30_days = csv.loc[(csv['Transaction_Date'] >= start_date) & (csv['Transaction_Date'] <= end_date)]"
   ]
  },
  {
   "cell_type": "code",
   "execution_count": 10,
   "metadata": {},
   "outputs": [
    {
     "data": {
      "text/plain": [
       "-2954.149999999999"
      ]
     },
     "execution_count": 10,
     "metadata": {},
     "output_type": "execute_result"
    }
   ],
   "source": [
    "# expenses last 30 days\n",
    "last_30_days[last_30_days['Transaction Type']=='Debit']['Transaction Amount'].sum()"
   ]
  },
  {
   "cell_type": "code",
   "execution_count": 11,
   "metadata": {},
   "outputs": [
    {
     "data": {
      "text/plain": [
       "3453.78"
      ]
     },
     "execution_count": 11,
     "metadata": {},
     "output_type": "execute_result"
    }
   ],
   "source": [
    "# revenue last 30 days\n",
    "last_30_days[last_30_days['Transaction Type']=='Credit']['Transaction Amount'].sum()"
   ]
  },
  {
   "cell_type": "code",
   "execution_count": 20,
   "metadata": {},
   "outputs": [
    {
     "data": {
      "text/plain": [
       "-2003.6800000000007"
      ]
     },
     "execution_count": 20,
     "metadata": {},
     "output_type": "execute_result"
    }
   ],
   "source": [
    "# shipping expenses year-to-date\n",
    "debits = csv[csv['Transaction Type']=='Debit']\n",
    "\n",
    "debits['Transaction Description'].value_counts()\n",
    "\n",
    "shipping_debits = debits[(debits['Transaction Description'].str.contains(\"Withdrawal from PAYPAL to\")) \\\n",
    "    | (debits['Transaction Description'].str.contains('SHIPSTATION'))]['Transaction Amount'].sum()\n",
    "\n",
    "shipping_debits"
   ]
  },
  {
   "cell_type": "code",
   "execution_count": 21,
   "metadata": {},
   "outputs": [
    {
     "data": {
      "text/plain": [
       "-3318.399999999999"
      ]
     },
     "execution_count": 21,
     "metadata": {},
     "output_type": "execute_result"
    }
   ],
   "source": [
    "# other expenses year-to-date\n",
    "total_debits = debits['Transaction Amount'].sum()\n",
    "\n",
    "total_debits - shipping_debits"
   ]
  },
  {
   "cell_type": "code",
   "execution_count": 98,
   "metadata": {},
   "outputs": [
    {
     "data": {
      "text/plain": [
       "1715.5500000000002"
      ]
     },
     "execution_count": 98,
     "metadata": {},
     "output_type": "execute_result"
    }
   ],
   "source": [
    "# Profit year-to-date\n",
    "credits = csv[csv['Transaction Type']=='Credit']\n",
    "\n",
    "revenue_ytd = credits['Transaction Amount'].sum()\n",
    "expenses_ytd = debits['Transaction Amount'].sum()\n",
    "\n",
    "revenue_ytd + expenses_ytd"
   ]
  },
  {
   "cell_type": "code",
   "execution_count": 26,
   "metadata": {},
   "outputs": [
    {
     "data": {
      "text/plain": [
       "6407.929999999999"
      ]
     },
     "execution_count": 26,
     "metadata": {},
     "output_type": "execute_result"
    }
   ],
   "source": [
    "# Profit last 30 days\n",
    "rec_credits = last_30_days[last_30_days['Transaction Type']=='Credit']['Transaction Amount'].sum()\n",
    "rec_debits = last_30_days[last_30_days['Transaction Type']=='Debit']['Transaction Amount'].sum()\n",
    "\n",
    "rec_credits - rec_debits"
   ]
  },
  {
   "cell_type": "code",
   "execution_count": null,
   "metadata": {},
   "outputs": [],
   "source": []
  },
  {
   "cell_type": "code",
   "execution_count": null,
   "metadata": {},
   "outputs": [],
   "source": []
  },
  {
   "cell_type": "code",
   "execution_count": null,
   "metadata": {},
   "outputs": [],
   "source": []
  },
  {
   "cell_type": "code",
   "execution_count": null,
   "metadata": {},
   "outputs": [],
   "source": []
  },
  {
   "cell_type": "code",
   "execution_count": null,
   "metadata": {},
   "outputs": [],
   "source": [
    "# TESTING ZONE"
   ]
  },
  {
   "cell_type": "code",
   "execution_count": null,
   "metadata": {},
   "outputs": [],
   "source": []
  },
  {
   "cell_type": "code",
   "execution_count": 43,
   "metadata": {},
   "outputs": [
    {
     "name": "stdout",
     "output_type": "stream",
     "text": [
      "<class 'pandas.core.frame.DataFrame'>\n",
      "RangeIndex: 521 entries, 0 to 520\n",
      "Data columns (total 41 columns):\n",
      " #   Column                                                      Non-Null Count  Dtype  \n",
      "---  ------                                                      --------------  -----  \n",
      " 0   Date                                                        521 non-null    object \n",
      " 1   Time                                                        521 non-null    object \n",
      " 2   TimeZone                                                    521 non-null    object \n",
      " 3   Name                                                        307 non-null    object \n",
      " 4   Type                                                        521 non-null    object \n",
      " 5   Status                                                      521 non-null    object \n",
      " 6   Currency                                                    521 non-null    object \n",
      " 7   Gross                                                       521 non-null    object \n",
      " 8   Fee                                                         521 non-null    float64\n",
      " 9   Net                                                         521 non-null    object \n",
      " 10  From Email Address                                          336 non-null    object \n",
      " 11  To Email Address                                            492 non-null    object \n",
      " 12  Transaction ID                                              521 non-null    object \n",
      " 13  Shipping Address                                            120 non-null    object \n",
      " 14  Address Status                                              307 non-null    object \n",
      " 15  Item Title                                                  507 non-null    object \n",
      " 16  Item ID                                                     0 non-null      float64\n",
      " 17  Shipping and Handling Amount                                482 non-null    float64\n",
      " 18  Insurance Amount                                            0 non-null      float64\n",
      " 19  Sales Tax                                                   507 non-null    float64\n",
      " 20  Option 1 Name                                               0 non-null      float64\n",
      " 21  Option 1 Value                                              0 non-null      float64\n",
      " 22  Option 2 Name                                               0 non-null      float64\n",
      " 23  Option 2 Value                                              0 non-null      float64\n",
      " 24  Reference Txn ID                                            396 non-null    object \n",
      " 25  Invoice Number                                              507 non-null    object \n",
      " 26  Custom Number                                               244 non-null    object \n",
      " 27  Quantity                                                    507 non-null    float64\n",
      " 28  Receipt ID                                                  15 non-null     float64\n",
      " 29  Balance                                                     521 non-null    object \n",
      " 30  Address Line 1                                              120 non-null    object \n",
      " 31  Address Line 2/District/Neighborhood                        49 non-null     object \n",
      " 32  Town/City                                                   120 non-null    object \n",
      " 33  State/Province/Region/County/Territory/Prefecture/Republic  120 non-null    object \n",
      " 34  Zip/Postal Code                                             120 non-null    object \n",
      " 35  Country                                                     120 non-null    object \n",
      " 36  Contact Phone Number                                        105 non-null    float64\n",
      " 37  Subject                                                     507 non-null    object \n",
      " 38  Note                                                        0 non-null      float64\n",
      " 39  Country Code                                                120 non-null    object \n",
      " 40  Balance Impact                                              521 non-null    object \n",
      "dtypes: float64(13), object(28)\n",
      "memory usage: 167.0+ KB\n"
     ]
    }
   ],
   "source": [
    "ppal=pd.read_csv('temp_data/Download.csv')\n",
    "# ppal.tail(77)\n",
    "ppal.info()"
   ]
  },
  {
   "cell_type": "code",
   "execution_count": 96,
   "metadata": {},
   "outputs": [
    {
     "data": {
      "text/plain": [
       "908.5299999999999"
      ]
     },
     "execution_count": 96,
     "metadata": {},
     "output_type": "execute_result"
    }
   ],
   "source": [
    "ppal.tail(50)[['Date','Balance']]\n",
    "\n",
    "week_trans = ppal.tail(50).iloc[3:][['Date','Balance','Type','Balance Impact','Net']]\n",
    "\n",
    "week_trans['Net'] = week_trans['Net'].str.replace(',','').astype(float)\n",
    "\n",
    "week_trans[week_trans['Balance Impact']=='Credit']['Net'].sum()"
   ]
  },
  {
   "cell_type": "code",
   "execution_count": 97,
   "metadata": {},
   "outputs": [
    {
     "data": {
      "text/plain": [
       "-2455.49"
      ]
     },
     "execution_count": 97,
     "metadata": {},
     "output_type": "execute_result"
    }
   ],
   "source": [
    "week_trans[week_trans['Balance Impact']=='Debit']['Net'].sum()"
   ]
  },
  {
   "cell_type": "code",
   "execution_count": null,
   "metadata": {},
   "outputs": [],
   "source": []
  },
  {
   "cell_type": "code",
   "execution_count": null,
   "metadata": {},
   "outputs": [],
   "source": []
  },
  {
   "cell_type": "code",
   "execution_count": null,
   "metadata": {},
   "outputs": [],
   "source": []
  },
  {
   "cell_type": "code",
   "execution_count": 18,
   "metadata": {},
   "outputs": [],
   "source": [
    "feb_to_date = csv_cmplt[csv_cmplt['month'].isin(['02','03'])]\n",
    "\n",
    "feb_to_date_db = feb_to_date[feb_to_date['Transaction Type']=='Debit']\n",
    "feb_to_date_cr = feb_to_date[feb_to_date['Transaction Type']=='Credit']"
   ]
  },
  {
   "cell_type": "code",
   "execution_count": 20,
   "metadata": {},
   "outputs": [],
   "source": [
    "total_debits = feb_to_date_db['Transaction Amount'].sum()\n",
    "total_credits = feb_to_date_cr['Transaction Amount'].sum()"
   ]
  },
  {
   "cell_type": "code",
   "execution_count": 22,
   "metadata": {},
   "outputs": [
    {
     "data": {
      "text/plain": [
       "(-4154.51, 4636.13)"
      ]
     },
     "execution_count": 22,
     "metadata": {},
     "output_type": "execute_result"
    }
   ],
   "source": [
    "total_debits, total_credits"
   ]
  },
  {
   "cell_type": "code",
   "execution_count": 95,
   "metadata": {},
   "outputs": [
    {
     "name": "stdout",
     "output_type": "stream",
     "text": [
      "-6.553013698630108\n"
     ]
    },
    {
     "data": {
      "text/plain": [
       "<matplotlib.axes._subplots.AxesSubplot at 0x230afcc1cc0>"
      ]
     },
     "execution_count": 95,
     "metadata": {},
     "output_type": "execute_result"
    },
    {
     "data": {
      "image/png": "[encoded data removed]",
      "text/plain": [
       "<Figure size 432x288 with 1 Axes>"
      ]
     },
     "metadata": {
      "needs_background": "light"
     },
     "output_type": "display_data"
    }
   ],
   "source": [
    "feb_to_date_shipping_db = feb_to_date_db[feb_to_date_db['Transaction Description'].str.contains('Withdrawal from PAYPAL')]\n",
    "\n",
    "print(feb_to_date_shipping_db['Transaction Amount'].mean())\n",
    "\n",
    "feb_to_date_shipping_db['Transaction Amount'].hist()"
   ]
  },
  {
   "cell_type": "code",
   "execution_count": 101,
   "metadata": {},
   "outputs": [
    {
     "data": {
      "text/plain": [
       "Withdrawal from PAYPAL to ANDREW YEN INST XFER                 146\n",
       "Debit Card Purchase - 48 HR BOOKS 800 2310521 OH                 4\n",
       "Digital Card Purchase - PAYPAL SHIPSTATION ST 4029357733 TX      2\n",
       "48 Hour books                                                    1\n",
       "48 Hour books reprint                                            1\n",
       "Printing Supplies                                                1\n",
       "Digital Card Purchase - PAYPAL STICKERAPPI 0763078251 MD         1\n",
       "Name: Transaction Description, dtype: int64"
      ]
     },
     "execution_count": 101,
     "metadata": {},
     "output_type": "execute_result"
    }
   ],
   "source": [
    "feb_to_date_db['Transaction Description'].value_counts()"
   ]
  },
  {
   "cell_type": "code",
   "execution_count": 103,
   "metadata": {},
   "outputs": [
    {
     "data": {
      "text/plain": [
       "-3197.7699999999995"
      ]
     },
     "execution_count": 103,
     "metadata": {},
     "output_type": "execute_result"
    }
   ],
   "source": [
    "# total costs (discounting shipping)\n",
    "feb_to_date_db[~feb_to_date_db['Transaction Description'].str.contains('Withdrawal')]['Transaction Amount'].sum()"
   ]
  },
  {
   "cell_type": "code",
   "execution_count": 6,
   "metadata": {},
   "outputs": [
    {
     "data": {
      "text/plain": [
       "['C:\\\\Users\\\\Yanxiang\\\\OneDrive\\\\Desktop\\\\sxratch',\n",
       " 'C:\\\\Users\\\\Yanxiang\\\\anaconda3\\\\python38.zip',\n",
       " 'C:\\\\Users\\\\Yanxiang\\\\anaconda3\\\\DLLs',\n",
       " 'C:\\\\Users\\\\Yanxiang\\\\anaconda3\\\\lib',\n",
       " 'C:\\\\Users\\\\Yanxiang\\\\anaconda3',\n",
       " '',\n",
       " 'C:\\\\Users\\\\Yanxiang\\\\anaconda3\\\\lib\\\\site-packages',\n",
       " 'C:\\\\Users\\\\Yanxiang\\\\anaconda3\\\\lib\\\\site-packages\\\\win32',\n",
       " 'C:\\\\Users\\\\Yanxiang\\\\anaconda3\\\\lib\\\\site-packages\\\\win32\\\\lib',\n",
       " 'C:\\\\Users\\\\Yanxiang\\\\anaconda3\\\\lib\\\\site-packages\\\\Pythonwin']"
      ]
     },
     "execution_count": 6,
     "metadata": {},
     "output_type": "execute_result"
    }
   ],
   "source": [
    "import sys\n",
    "\n",
    "sys.path"
   ]
  },
  {
   "cell_type": "code",
   "execution_count": 8,
   "metadata": {},
   "outputs": [
    {
     "name": "stdout",
     "output_type": "stream",
     "text": [
      "<class 'pandas.core.frame.DataFrame'>\n",
      "RangeIndex: 277 entries, 0 to 276\n",
      "Data columns (total 35 columns):\n",
      " #   Column                Non-Null Count  Dtype  \n",
      "---  ------                --------------  -----  \n",
      " 0   Order #               277 non-null    int64  \n",
      " 1   Date                  277 non-null    object \n",
      " 2   Product Name          277 non-null    object \n",
      " 3   Product Quantity      277 non-null    int64  \n",
      " 4   Variant Name          277 non-null    object \n",
      " 5   Variant SKU           0 non-null      float64\n",
      " 6   Product Price         277 non-null    object \n",
      " 7   Product Discount      277 non-null    object \n",
      " 8   Subtotal              200 non-null    object \n",
      " 9   Shipping              200 non-null    object \n",
      " 10  Tax                   200 non-null    object \n",
      " 11  Total                 200 non-null    object \n",
      " 12  Handling Fee          200 non-null    object \n",
      " 13  Commission Fee        200 non-null    object \n",
      " 14  Shipping Class        277 non-null    object \n",
      " 15  Shipping Status       277 non-null    object \n",
      " 16  Payment Status        277 non-null    object \n",
      " 17  Payment Processed At  277 non-null    object \n",
      " 18  Shipped At            277 non-null    object \n",
      " 19  Discount Name         0 non-null      float64\n",
      " 20  Discount Description  0 non-null      float64\n",
      " 21  Discount Amount       200 non-null    object \n",
      " 22  Email                 277 non-null    object \n",
      " 23  Phone Number          229 non-null    object \n",
      " 24  First Name            277 non-null    object \n",
      " 25  Last Name             277 non-null    object \n",
      " 26  Address 1             277 non-null    object \n",
      " 27  Address 2             111 non-null    object \n",
      " 28  City                  277 non-null    object \n",
      " 29  Locale                269 non-null    object \n",
      " 30  Locale Abbreviation   269 non-null    object \n",
      " 31  Postal Code           277 non-null    object \n",
      " 32  Country               277 non-null    object \n",
      " 33  Country ISO           277 non-null    object \n",
      " 34  Customer Note         35 non-null     object \n",
      "dtypes: float64(3), int64(2), object(30)\n",
      "memory usage: 75.9+ KB\n"
     ]
    }
   ],
   "source": [
    "# analyze average sale\n",
    "\n",
    "sales_csv = pd.read_csv('temp_data/Storenvy-the-rookery-press-All-Orders-March-27-2023.csv', encoding='ISO-8859-1')\n",
    "sales_csv.info()"
   ]
  },
  {
   "cell_type": "code",
   "execution_count": 9,
   "metadata": {},
   "outputs": [
    {
     "data": {
      "text/html": [
       "<div>\n",
       "<style scoped>\n",
       "    .dataframe tbody tr th:only-of-type {\n",
       "        vertical-align: middle;\n",
       "    }\n",
       "\n",
       "    .dataframe tbody tr th {\n",
       "        vertical-align: top;\n",
       "    }\n",
       "\n",
       "    .dataframe thead th {\n",
       "        text-align: right;\n",
       "    }\n",
       "</style>\n",
       "<table border=\"1\" class=\"dataframe\">\n",
       "  <thead>\n",
       "    <tr style=\"text-align: right;\">\n",
       "      <th></th>\n",
       "      <th>Order #</th>\n",
       "      <th>Date</th>\n",
       "      <th>Product Name</th>\n",
       "      <th>Product Quantity</th>\n",
       "      <th>Variant Name</th>\n",
       "      <th>Variant SKU</th>\n",
       "      <th>Product Price</th>\n",
       "      <th>Product Discount</th>\n",
       "      <th>Subtotal</th>\n",
       "      <th>Shipping</th>\n",
       "      <th>...</th>\n",
       "      <th>Last Name</th>\n",
       "      <th>Address 1</th>\n",
       "      <th>Address 2</th>\n",
       "      <th>City</th>\n",
       "      <th>Locale</th>\n",
       "      <th>Locale Abbreviation</th>\n",
       "      <th>Postal Code</th>\n",
       "      <th>Country</th>\n",
       "      <th>Country ISO</th>\n",
       "      <th>Customer Note</th>\n",
       "    </tr>\n",
       "  </thead>\n",
       "  <tbody>\n",
       "    <tr>\n",
       "      <th>0</th>\n",
       "      <td>21454456</td>\n",
       "      <td>02/08/2023  2:44:34 PM</td>\n",
       "      <td>Collected Works of the Black Liberation Army, ...</td>\n",
       "      <td>1</td>\n",
       "      <td>PRE-ORDER BONUS</td>\n",
       "      <td>NaN</td>\n",
       "      <td>$17.00</td>\n",
       "      <td>$0.00</td>\n",
       "      <td>$17.00</td>\n",
       "      <td>$5.00</td>\n",
       "      <td>...</td>\n",
       "      <td>Kizito</td>\n",
       "      <td>4124 12th Avenue South</td>\n",
       "      <td>55407</td>\n",
       "      <td>Minneapolis</td>\n",
       "      <td>Minnesota</td>\n",
       "      <td>MN</td>\n",
       "      <td>55407</td>\n",
       "      <td>United States</td>\n",
       "      <td>US</td>\n",
       "      <td>NaN</td>\n",
       "    </tr>\n",
       "    <tr>\n",
       "      <th>1</th>\n",
       "      <td>21454532</td>\n",
       "      <td>02/08/2023  5:37:11 PM</td>\n",
       "      <td>The Power of the People is the Force of Life, ...</td>\n",
       "      <td>1</td>\n",
       "      <td>Standard</td>\n",
       "      <td>NaN</td>\n",
       "      <td>$10.00</td>\n",
       "      <td>$0.00</td>\n",
       "      <td>$27.00</td>\n",
       "      <td>$5.00</td>\n",
       "      <td>...</td>\n",
       "      <td>Breidford</td>\n",
       "      <td>3035 Sherman AVE NW</td>\n",
       "      <td>NaN</td>\n",
       "      <td>Washington</td>\n",
       "      <td>District of Columbia</td>\n",
       "      <td>DC</td>\n",
       "      <td>20001</td>\n",
       "      <td>United States</td>\n",
       "      <td>US</td>\n",
       "      <td>always grateful for the work y'all do</td>\n",
       "    </tr>\n",
       "    <tr>\n",
       "      <th>2</th>\n",
       "      <td>21454532</td>\n",
       "      <td>02/08/2023  5:37:11 PM</td>\n",
       "      <td>Collected Works of the Black Liberation Army, ...</td>\n",
       "      <td>1</td>\n",
       "      <td>PRE-ORDER BONUS</td>\n",
       "      <td>NaN</td>\n",
       "      <td>$17.00</td>\n",
       "      <td>$0.00</td>\n",
       "      <td>NaN</td>\n",
       "      <td>NaN</td>\n",
       "      <td>...</td>\n",
       "      <td>Breidford</td>\n",
       "      <td>3035 Sherman AVE NW</td>\n",
       "      <td>NaN</td>\n",
       "      <td>Washington</td>\n",
       "      <td>District of Columbia</td>\n",
       "      <td>DC</td>\n",
       "      <td>20001</td>\n",
       "      <td>United States</td>\n",
       "      <td>US</td>\n",
       "      <td>always grateful for the work y'all do</td>\n",
       "    </tr>\n",
       "    <tr>\n",
       "      <th>3</th>\n",
       "      <td>21454536</td>\n",
       "      <td>02/08/2023  5:55:58 PM</td>\n",
       "      <td>Collected Works of the Black Liberation Army, ...</td>\n",
       "      <td>1</td>\n",
       "      <td>PRE-ORDER BONUS</td>\n",
       "      <td>NaN</td>\n",
       "      <td>$17.00</td>\n",
       "      <td>$0.00</td>\n",
       "      <td>$17.00</td>\n",
       "      <td>$5.00</td>\n",
       "      <td>...</td>\n",
       "      <td>Mausert-Mooney</td>\n",
       "      <td>2157 W. Coulter St., 2R</td>\n",
       "      <td>60608</td>\n",
       "      <td>Chicago</td>\n",
       "      <td>Illinois</td>\n",
       "      <td>IL</td>\n",
       "      <td>60608</td>\n",
       "      <td>United States</td>\n",
       "      <td>US</td>\n",
       "      <td>NaN</td>\n",
       "    </tr>\n",
       "    <tr>\n",
       "      <th>4</th>\n",
       "      <td>21454545</td>\n",
       "      <td>02/08/2023  6:06:59 PM</td>\n",
       "      <td>Collected Works of the Black Liberation Army, ...</td>\n",
       "      <td>1</td>\n",
       "      <td>STANDARD</td>\n",
       "      <td>NaN</td>\n",
       "      <td>$20.00</td>\n",
       "      <td>$0.00</td>\n",
       "      <td>$20.00</td>\n",
       "      <td>$5.00</td>\n",
       "      <td>...</td>\n",
       "      <td>Simpson</td>\n",
       "      <td>2341 Hughes Ave.</td>\n",
       "      <td>Unit C</td>\n",
       "      <td>Oakland</td>\n",
       "      <td>California</td>\n",
       "      <td>CA</td>\n",
       "      <td>94601</td>\n",
       "      <td>United States</td>\n",
       "      <td>US</td>\n",
       "      <td>NaN</td>\n",
       "    </tr>\n",
       "  </tbody>\n",
       "</table>\n",
       "<p>5 rows × 35 columns</p>\n",
       "</div>"
      ],
      "text/plain": [
       "    Order #                    Date  \\\n",
       "0  21454456  02/08/2023  2:44:34 PM   \n",
       "1  21454532  02/08/2023  5:37:11 PM   \n",
       "2  21454532  02/08/2023  5:37:11 PM   \n",
       "3  21454536  02/08/2023  5:55:58 PM   \n",
       "4  21454545  02/08/2023  6:06:59 PM   \n",
       "\n",
       "                                        Product Name  Product Quantity  \\\n",
       "0  Collected Works of the Black Liberation Army, ...                 1   \n",
       "1  The Power of the People is the Force of Life, ...                 1   \n",
       "2  Collected Works of the Black Liberation Army, ...                 1   \n",
       "3  Collected Works of the Black Liberation Army, ...                 1   \n",
       "4  Collected Works of the Black Liberation Army, ...                 1   \n",
       "\n",
       "      Variant Name  Variant SKU Product Price Product Discount Subtotal  \\\n",
       "0  PRE-ORDER BONUS          NaN        $17.00            $0.00   $17.00   \n",
       "1         Standard          NaN        $10.00            $0.00   $27.00   \n",
       "2  PRE-ORDER BONUS          NaN        $17.00            $0.00      NaN   \n",
       "3  PRE-ORDER BONUS          NaN        $17.00            $0.00   $17.00   \n",
       "4         STANDARD          NaN        $20.00            $0.00   $20.00   \n",
       "\n",
       "  Shipping  ...       Last Name                Address 1 Address 2  \\\n",
       "0    $5.00  ...          Kizito   4124 12th Avenue South     55407   \n",
       "1    $5.00  ...       Breidford     3035 Sherman AVE NW        NaN   \n",
       "2      NaN  ...       Breidford     3035 Sherman AVE NW        NaN   \n",
       "3    $5.00  ...  Mausert-Mooney  2157 W. Coulter St., 2R     60608   \n",
       "4    $5.00  ...         Simpson         2341 Hughes Ave.    Unit C   \n",
       "\n",
       "          City                Locale Locale Abbreviation Postal Code  \\\n",
       "0  Minneapolis             Minnesota                  MN       55407   \n",
       "1  Washington   District of Columbia                  DC       20001   \n",
       "2  Washington   District of Columbia                  DC       20001   \n",
       "3      Chicago              Illinois                  IL       60608   \n",
       "4      Oakland            California                  CA       94601   \n",
       "\n",
       "         Country Country ISO                           Customer Note  \n",
       "0  United States          US                                     NaN  \n",
       "1  United States          US  always grateful for the work y'all do   \n",
       "2  United States          US  always grateful for the work y'all do   \n",
       "3  United States          US                                     NaN  \n",
       "4  United States          US                                     NaN  \n",
       "\n",
       "[5 rows x 35 columns]"
      ]
     },
     "execution_count": 9,
     "metadata": {},
     "output_type": "execute_result"
    }
   ],
   "source": [
    "sales_csv.head()"
   ]
  },
  {
   "cell_type": "code",
   "execution_count": 12,
   "metadata": {},
   "outputs": [
    {
     "data": {
      "text/plain": [
       "$20.00     102\n",
       "$30.00      23\n",
       "$17.00      19\n",
       "$34.00       8\n",
       "$44.00       7\n",
       "$40.00       3\n",
       "$31.00       2\n",
       "$48.00       2\n",
       "$68.00       2\n",
       "$60.00       2\n",
       "$54.00       2\n",
       "$51.00       1\n",
       "$27.00       1\n",
       "$58.00       1\n",
       "$104.00      1\n",
       "Name: Subtotal, dtype: int64"
      ]
     },
     "execution_count": 12,
     "metadata": {},
     "output_type": "execute_result"
    }
   ],
   "source": [
    "sales_csv[sales_csv['Product Name'].str.contains('Black Liber')]['Subtotal'].value_counts()"
   ]
  },
  {
   "cell_type": "code",
   "execution_count": 90,
   "metadata": {},
   "outputs": [],
   "source": [
    "# 141 units of CWBLA sold (2/8 to 3/1) \n",
    "sales_csv['num_date'] = sales_csv['Date'].str[:11].str.replace('/','').astype(int)\n",
    "sales_csv['num_Total'] = sales_csv['Total'].str.replace('$','').astype(float)"
   ]
  },
  {
   "cell_type": "code",
   "execution_count": 92,
   "metadata": {},
   "outputs": [
    {
     "data": {
      "text/plain": [
       "33.4246874999999"
      ]
     },
     "execution_count": 92,
     "metadata": {},
     "output_type": "execute_result"
    }
   ],
   "source": [
    "sales_csv[sales_csv['num_date']>2082023]['num_Total'].mean()"
   ]
  },
  {
   "cell_type": "code",
   "execution_count": null,
   "metadata": {},
   "outputs": [],
   "source": []
  }
 ],
 "metadata": {
  "kernelspec": {
   "display_name": "Python 3",
   "language": "python",
   "name": "python3"
  },
  "language_info": {
   "codemirror_mode": {
    "name": "ipython",
    "version": 3
   },
   "file_extension": ".py",
   "mimetype": "text/x-python",
   "name": "python",
   "nbconvert_exporter": "python",
   "pygments_lexer": "ipython3",
   "version": "3.8.16"
  }
 },
 "nbformat": 4,
 "nbformat_minor": 4
}
